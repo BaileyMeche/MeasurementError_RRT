{
 "cells": [
  {
   "attachments": {},
   "cell_type": "markdown",
   "metadata": {},
   "source": [
    "# RRT Simulation Work\n",
    "> ##### By: Venu Poruri"
   ]
  },
  {
   "cell_type": "code",
   "execution_count": null,
   "metadata": {},
   "outputs": [],
   "source": [
    "from rrt_with_trust import *"
   ]
  },
  {
   "cell_type": "code",
   "execution_count": null,
   "metadata": {},
   "outputs": [],
   "source": [
    "no_confusion_parameters = [MixtureModel(p, 0.15, 10000, 500, 0.4, 0.1, c, False)\n",
    "                           for p in [0.3, 0.4] for c in [0, 0.01, 0.05, 0.1]]\n",
    "no_confusion_parameters = [MixtureModel(p, round((1-p)/2, 3), 10000, 500, 0.4, 0.1, c, False)\n",
    "                           for p in [0.4, 0.55, 0.7] for c in [0, 0.01, 0.05, 0.1]]\n",
    "\n",
    "no_confusion_table = generate_table(no_confusion_parameters)\n",
    "no_confusion_table.to_csv('Simulation Output 2/no_confusion.csv', index=True)"
   ]
  },
  {
   "cell_type": "code",
   "execution_count": null,
   "metadata": {},
   "outputs": [],
   "source": [
    "with_confusion_parameters = [MixtureModel(p, 0.15, 10000, 500, 0.4, 0.1, c, True)\n",
    "                             for p in [0.3, 0.4] for c in [0.01, 0.05, 0.1]]\n",
    "with_confusion_parameters = [MixtureModel(p, round((1-p)/2, 3), 10000, 500, 0.4, 0.1, c, True)\n",
    "                             for p in [0.4, 0.55, 0.7] for c in [0.01, 0.05, 0.1]]\n",
    "\n",
    "with_confusion_table = generate_table(with_confusion_parameters)\n",
    "with_confusion_table.to_csv('Simulation Output 2/with_confusion.csv', index=True)"
   ]
  },
  {
   "cell_type": "code",
   "execution_count": null,
   "metadata": {},
   "outputs": [],
   "source": [
    "william_parameters = [WarnerModel(p, 10000, 500, 0.4, c, True)\n",
    "                      for p in [0.4, 0.55, 0.7] for c in [0.01, 0.05, 0.1]]\n",
    "\n",
    "william_table = generate_table(william_parameters)\n",
    "william_table.to_csv('Simulation Output 2/william.csv', index=True)"
   ]
  },
  {
   "cell_type": "code",
   "execution_count": null,
   "metadata": {},
   "outputs": [],
   "source": [
    "greenberg_parameters = [GreenbergModel(p, 10000, 500, 0.4, 0.1, c, True)\n",
    "                        for p in [0.4, 0.55, 0.7] for c in [0.01, 0.05, 0.1]]\n",
    "\n",
    "greenberg_table = generate_table(greenberg_parameters)\n",
    "greenberg_table.to_csv('Simulation Output 2/greenberg.csv', index=True)"
   ]
  }
 ],
 "metadata": {
  "kernelspec": {
   "display_name": "Python 3",
   "language": "python",
   "name": "python3"
  },
  "language_info": {
   "codemirror_mode": {
    "name": "ipython",
    "version": 3
   },
   "file_extension": ".py",
   "mimetype": "text/x-python",
   "name": "python",
   "nbconvert_exporter": "python",
   "pygments_lexer": "ipython3",
   "version": "3.11.4"
  },
  "orig_nbformat": 4
 },
 "nbformat": 4,
 "nbformat_minor": 2
}
