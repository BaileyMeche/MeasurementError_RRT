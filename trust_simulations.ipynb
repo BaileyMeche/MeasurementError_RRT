{
 "cells": [
  {
   "cell_type": "markdown",
   "metadata": {},
   "source": [
    "# RRT Simulations with Trust\n",
    "> ##### By: Venu Poruri"
   ]
  },
  {
   "cell_type": "code",
   "execution_count": null,
   "metadata": {},
   "outputs": [],
   "source": [
    "from rrt_with_trust import *"
   ]
  },
  {
   "cell_type": "code",
   "execution_count": null,
   "metadata": {},
   "outputs": [],
   "source": [
    "mixture = [MixtureModel(0.7, 0.15, 10000, 500, 0.4, 1/12, c, A, False, True) for c in [0, 0.01, 0.05, 0.1] for A in [1.0, 0.95, 0.9]]\n",
    "test_table = generate_table(mixture)\n",
    "test_table.to_csv(\"Simulation Output - With Trust/naive.csv\", encoding='utf-8', index=False)"
   ]
  },
  {
   "cell_type": "code",
   "execution_count": null,
   "metadata": {},
   "outputs": [],
   "source": [
    "mixture = [MixtureModel(0.7, 0.15, 10000, 500, 0.4, 1/12, c, A, True, True) for c in [0.01, 0.05, 0.1] for A in [1.0, 0.95, 0.9]]\n",
    "warner = [WarnerModel(0.7, 10000, 500, 0.4, c, A, True, True) for c in [0.01, 0.05, 0.1] for A in [1.0, 0.95, 0.9]]\n",
    "greenberg = [GreenbergModel(0.7, 10000, 500, 0.4, 1/12, c, A, True, True) for c in [0.01, 0.05, 0.1] for A in [1.0, 0.95, 0.9]]\n",
    "\n",
    "test_table = generate_table(greenberg)\n",
    "test_table.to_csv(\"Simulation Output - With Trust/simulation_results.csv\", encoding='utf-8', index=False)"
   ]
  }
 ],
 "metadata": {
  "kernelspec": {
   "display_name": "Python 3",
   "language": "python",
   "name": "python3"
  },
  "language_info": {
   "codemirror_mode": {
    "name": "ipython",
    "version": 3
   },
   "file_extension": ".py",
   "mimetype": "text/x-python",
   "name": "python",
   "nbconvert_exporter": "python",
   "pygments_lexer": "ipython3",
   "version": "3.11.4"
  },
  "orig_nbformat": 4
 },
 "nbformat": 4,
 "nbformat_minor": 2
}
